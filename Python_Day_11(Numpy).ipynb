{
  "nbformat": 4,
  "nbformat_minor": 0,
  "metadata": {
    "colab": {
      "provenance": []
    },
    "kernelspec": {
      "name": "python3",
      "display_name": "Python 3"
    },
    "language_info": {
      "name": "python"
    }
  },
  "cells": [
    {
      "cell_type": "markdown",
      "source": [
        "# Numpy\n",
        "NumPy is a fundamental library for scientific computing in Python. It provides support for arrays and matrices, along with a collection of mathematical functions to operate on these data structures. In this lesson, we will cover the basics of NumPy, focusing on arrays and vectorized operations."
      ],
      "metadata": {
        "id": "YxIOx2yGbQN8"
      }
    },
    {
      "cell_type": "markdown",
      "source": [
        "# Creating 1-D array:"
      ],
      "metadata": {
        "id": "nWKo42nkKnjd"
      }
    },
    {
      "cell_type": "code",
      "source": [
        "import numpy as np\n",
        "\n",
        "arr1 = np.array([1,2,3,4,5])\n",
        "arr1\n",
        "arr1.shape"
      ],
      "metadata": {
        "colab": {
          "base_uri": "https://localhost:8080/"
        },
        "id": "9p_ynXZDKwmg",
        "outputId": "01df657d-b1a7-4ec0-be1b-9c64967c5ec1"
      },
      "execution_count": 4,
      "outputs": [
        {
          "output_type": "execute_result",
          "data": {
            "text/plain": [
              "(5,)"
            ]
          },
          "metadata": {},
          "execution_count": 4
        }
      ]
    },
    {
      "cell_type": "markdown",
      "source": [
        "## Reshape:"
      ],
      "metadata": {
        "id": "MZ7ak31HLEE5"
      }
    },
    {
      "cell_type": "code",
      "source": [
        "# this will turn (1,5) into (5,1)-> 5 row, 1 column\n",
        "arr2 = np.reshape(arr1, (5,1))\n",
        "arr2\n",
        "arr2.shape"
      ],
      "metadata": {
        "colab": {
          "base_uri": "https://localhost:8080/"
        },
        "id": "usFYNUKSLdCU",
        "outputId": "57d719b0-7296-4dc4-d13c-470c4ee4ca58"
      },
      "execution_count": 8,
      "outputs": [
        {
          "output_type": "execute_result",
          "data": {
            "text/plain": [
              "(5, 1)"
            ]
          },
          "metadata": {},
          "execution_count": 8
        }
      ]
    },
    {
      "cell_type": "markdown",
      "source": [
        "## Creating 2-D Array:"
      ],
      "metadata": {
        "id": "I0qENVe-LyFn"
      }
    },
    {
      "cell_type": "code",
      "source": [
        "ar = np.array([[1,2,3,4,5], [6,7,8,9,10]])\n",
        "ar.shape\n",
        "print(ar)"
      ],
      "metadata": {
        "colab": {
          "base_uri": "https://localhost:8080/"
        },
        "id": "I8f6QH-mNC3N",
        "outputId": "3197994c-522e-493b-b161-1a22f34ad76d"
      },
      "execution_count": 10,
      "outputs": [
        {
          "output_type": "stream",
          "name": "stdout",
          "text": [
            "[[ 1  2  3  4  5]\n",
            " [ 6  7  8  9 10]]\n"
          ]
        }
      ]
    },
    {
      "cell_type": "code",
      "source": [
        "ar1 = np.arange(1,10,2)\n",
        "ar1\n",
        "type(ar1)"
      ],
      "metadata": {
        "colab": {
          "base_uri": "https://localhost:8080/"
        },
        "id": "rB3xpTrUNQoy",
        "outputId": "bf380d83-0392-4686-fd72-ded9e11364d4"
      },
      "execution_count": 12,
      "outputs": [
        {
          "output_type": "execute_result",
          "data": {
            "text/plain": [
              "numpy.ndarray"
            ]
          },
          "metadata": {},
          "execution_count": 12
        }
      ]
    },
    {
      "cell_type": "code",
      "source": [
        "ar1.reshape(5,1)"
      ],
      "metadata": {
        "colab": {
          "base_uri": "https://localhost:8080/"
        },
        "id": "BOrUKa4GP-0C",
        "outputId": "cd55e66f-c2f9-450c-cbe1-4cf8aaa4419b"
      },
      "execution_count": 15,
      "outputs": [
        {
          "output_type": "execute_result",
          "data": {
            "text/plain": [
              "array([[1],\n",
              "       [3],\n",
              "       [5],\n",
              "       [7],\n",
              "       [9]])"
            ]
          },
          "metadata": {},
          "execution_count": 15
        }
      ]
    },
    {
      "cell_type": "code",
      "source": [
        "# np - ones:"
      ],
      "metadata": {
        "id": "51p5y9g9QIeY"
      },
      "execution_count": 16,
      "outputs": []
    },
    {
      "cell_type": "code",
      "source": [
        "np.ones((3,3)) # means it will create a 2d array with 3 rows and 3 columns with 1's"
      ],
      "metadata": {
        "colab": {
          "base_uri": "https://localhost:8080/"
        },
        "id": "3-1rQy_MQbLs",
        "outputId": "1758c174-6983-4aec-d344-d581320f33f1"
      },
      "execution_count": 17,
      "outputs": [
        {
          "output_type": "execute_result",
          "data": {
            "text/plain": [
              "array([[1., 1., 1.],\n",
              "       [1., 1., 1.],\n",
              "       [1., 1., 1.]])"
            ]
          },
          "metadata": {},
          "execution_count": 17
        }
      ]
    },
    {
      "cell_type": "markdown",
      "source": [
        "## Identity Metrics:"
      ],
      "metadata": {
        "id": "RYPhnjprQlvB"
      }
    },
    {
      "cell_type": "code",
      "source": [
        "np.eye(3)"
      ],
      "metadata": {
        "colab": {
          "base_uri": "https://localhost:8080/"
        },
        "id": "SN19JU1tQ0ke",
        "outputId": "4d222af0-a2f3-4a7d-f607-d697e5712719"
      },
      "execution_count": 18,
      "outputs": [
        {
          "output_type": "execute_result",
          "data": {
            "text/plain": [
              "array([[1., 0., 0.],\n",
              "       [0., 1., 0.],\n",
              "       [0., 0., 1.]])"
            ]
          },
          "metadata": {},
          "execution_count": 18
        }
      ]
    },
    {
      "cell_type": "code",
      "source": [
        "## Attributes of Numpy Array\n",
        "arr = np.array([[1, 2, 3], [4, 5, 6]])\n",
        "\n",
        "print(\"Array:\\n\", arr)\n",
        "print(\"Shape:\", arr.shape)  # Output: (2, 3)\n",
        "print(\"Number of dimensions:\", arr.ndim)  # Output: 2\n",
        "print(\"Size (number of elements):\", arr.size)  # Output: 6\n",
        "print(\"Data type:\", arr.dtype)  # Output: int32 (may vary based on platform)\n",
        "print(\"Item size (in bytes):\", arr.itemsize)  # Output: 8 (may vary based on platform)\n"
      ],
      "metadata": {
        "colab": {
          "base_uri": "https://localhost:8080/"
        },
        "id": "DjLjuSCMQ-pD",
        "outputId": "69ec781f-5890-420c-bdfc-636dcc415991"
      },
      "execution_count": 19,
      "outputs": [
        {
          "output_type": "stream",
          "name": "stdout",
          "text": [
            "Array:\n",
            " [[1 2 3]\n",
            " [4 5 6]]\n",
            "Shape: (2, 3)\n",
            "Number of dimensions: 2\n",
            "Size (number of elements): 6\n",
            "Data type: int64\n",
            "Item size (in bytes): 8\n"
          ]
        }
      ]
    },
    {
      "cell_type": "markdown",
      "source": [
        "## Numpy Vectorized Operation:"
      ],
      "metadata": {
        "id": "xS1qzutiSOMf"
      }
    },
    {
      "cell_type": "code",
      "source": [
        "### Numpy Vectorized Operation\n",
        "arr1=np.array([1,2,3,4,5])\n",
        "arr2=np.array([10,20,30,40,50])"
      ],
      "metadata": {
        "id": "bxUK_X1xSVYI"
      },
      "execution_count": 20,
      "outputs": []
    },
    {
      "cell_type": "code",
      "source": [
        "# Addition:\n",
        "add = arr1 + arr2\n",
        "print(add)"
      ],
      "metadata": {
        "colab": {
          "base_uri": "https://localhost:8080/"
        },
        "id": "B3jjJzEpScAj",
        "outputId": "6d0fd113-bd32-4a1d-fc3b-05ca6f9fd637"
      },
      "execution_count": 22,
      "outputs": [
        {
          "output_type": "stream",
          "name": "stdout",
          "text": [
            "[11 22 33 44 55]\n"
          ]
        }
      ]
    },
    {
      "cell_type": "code",
      "source": [
        "## Element Wise Substraction\n",
        "print(\"Substraction:\", arr1-arr2)"
      ],
      "metadata": {
        "colab": {
          "base_uri": "https://localhost:8080/"
        },
        "id": "_5MsTvviSiNv",
        "outputId": "a66fed3f-8fd5-44d7-e535-58153ee4ebff"
      },
      "execution_count": 23,
      "outputs": [
        {
          "output_type": "stream",
          "name": "stdout",
          "text": [
            "Substraction: [ -9 -18 -27 -36 -45]\n"
          ]
        }
      ]
    },
    {
      "cell_type": "code",
      "source": [
        "# Element-wise multiplication\n",
        "print(\"Multiplication:\", arr1 * arr2)"
      ],
      "metadata": {
        "colab": {
          "base_uri": "https://localhost:8080/"
        },
        "id": "Aap80yinSrH0",
        "outputId": "a2216d5d-6c12-49d6-b300-08717a8f5555"
      },
      "execution_count": 24,
      "outputs": [
        {
          "output_type": "stream",
          "name": "stdout",
          "text": [
            "Multiplication: [ 10  40  90 160 250]\n"
          ]
        }
      ]
    },
    {
      "cell_type": "code",
      "source": [
        "# Element-wise division\n",
        "print(\"Division:\", arr1 / arr2)"
      ],
      "metadata": {
        "colab": {
          "base_uri": "https://localhost:8080/"
        },
        "id": "TsUSszu7SuRa",
        "outputId": "bf66c17b-e89f-430b-dbbc-399ea6afaa47"
      },
      "execution_count": 25,
      "outputs": [
        {
          "output_type": "stream",
          "name": "stdout",
          "text": [
            "Division: [0.1 0.1 0.1 0.1 0.1]\n"
          ]
        }
      ]
    },
    {
      "cell_type": "markdown",
      "source": [
        "## Universal Function"
      ],
      "metadata": {
        "id": "dNbDOfhRSxDp"
      }
    },
    {
      "cell_type": "code",
      "source": [
        "arr=np.array([2,3,4,5,6])\n"
      ],
      "metadata": {
        "id": "rbvN4nqAS2vV"
      },
      "execution_count": 26,
      "outputs": []
    },
    {
      "cell_type": "code",
      "source": [
        "## square root\n",
        "print(np.sqrt(arr))"
      ],
      "metadata": {
        "colab": {
          "base_uri": "https://localhost:8080/"
        },
        "id": "SGELCvwMTCLo",
        "outputId": "9fad9946-736a-49f7-ee7e-117822844004"
      },
      "execution_count": 27,
      "outputs": [
        {
          "output_type": "stream",
          "name": "stdout",
          "text": [
            "[1.41421356 1.73205081 2.         2.23606798 2.44948974]\n"
          ]
        }
      ]
    },
    {
      "cell_type": "code",
      "source": [
        "## Exponential\n",
        "print(np.exp(arr))"
      ],
      "metadata": {
        "colab": {
          "base_uri": "https://localhost:8080/"
        },
        "id": "zxwj1OiWTDyy",
        "outputId": "0ae14d19-80bb-443f-ad6a-d354a8c31eb3"
      },
      "execution_count": 28,
      "outputs": [
        {
          "output_type": "stream",
          "name": "stdout",
          "text": [
            "[  7.3890561   20.08553692  54.59815003 148.4131591  403.42879349]\n"
          ]
        }
      ]
    },
    {
      "cell_type": "code",
      "source": [
        "## Sine\n",
        "print(np.sin(arr))"
      ],
      "metadata": {
        "colab": {
          "base_uri": "https://localhost:8080/"
        },
        "id": "Cv4fKayTTLY3",
        "outputId": "0e7415aa-a1e2-4459-c5cc-c775c3e80d85"
      },
      "execution_count": 29,
      "outputs": [
        {
          "output_type": "stream",
          "name": "stdout",
          "text": [
            "[ 0.90929743  0.14112001 -0.7568025  -0.95892427 -0.2794155 ]\n"
          ]
        }
      ]
    },
    {
      "cell_type": "code",
      "source": [
        "## natural log\n",
        "print(np.log(arr))"
      ],
      "metadata": {
        "colab": {
          "base_uri": "https://localhost:8080/"
        },
        "id": "UfYpQ6JOTWBU",
        "outputId": "69ca2a05-5adf-40eb-f6ee-943dfc9fc94e"
      },
      "execution_count": 30,
      "outputs": [
        {
          "output_type": "stream",
          "name": "stdout",
          "text": [
            "[0.69314718 1.09861229 1.38629436 1.60943791 1.79175947]\n"
          ]
        }
      ]
    },
    {
      "cell_type": "markdown",
      "source": [
        "## Array slicing and Indexing\n",
        "\n"
      ],
      "metadata": {
        "id": "Fm81SbC0TcKQ"
      }
    },
    {
      "cell_type": "code",
      "source": [
        "arr=np.array([[1,2,3,4],[5,6,7,8],[9,10,11,12]])\n",
        "print(\"Array : \\n\", arr)"
      ],
      "metadata": {
        "colab": {
          "base_uri": "https://localhost:8080/"
        },
        "id": "NBjynswPTnoH",
        "outputId": "0bc228da-e928-4156-b640-cadfa89e130f"
      },
      "execution_count": 31,
      "outputs": [
        {
          "output_type": "stream",
          "name": "stdout",
          "text": [
            "Array : \n",
            " [[ 1  2  3  4]\n",
            " [ 5  6  7  8]\n",
            " [ 9 10 11 12]]\n"
          ]
        }
      ]
    },
    {
      "cell_type": "code",
      "source": [
        "# Access the first element of the array:\n",
        "\n",
        "arr[0]"
      ],
      "metadata": {
        "colab": {
          "base_uri": "https://localhost:8080/"
        },
        "id": "KkuvArqdTqAa",
        "outputId": "30f250a5-0a4f-49c5-8398-5a8102db3c57"
      },
      "execution_count": 32,
      "outputs": [
        {
          "output_type": "execute_result",
          "data": {
            "text/plain": [
              "array([1, 2, 3, 4])"
            ]
          },
          "metadata": {},
          "execution_count": 32
        }
      ]
    },
    {
      "cell_type": "code",
      "source": [
        "arr[0][0]\n",
        "print(arr[0][0])"
      ],
      "metadata": {
        "colab": {
          "base_uri": "https://localhost:8080/"
        },
        "id": "P6oV8IQVUaUt",
        "outputId": "344db804-1769-48d9-bba9-8a44fdd94d4e"
      },
      "execution_count": 34,
      "outputs": [
        {
          "output_type": "stream",
          "name": "stdout",
          "text": [
            "1\n"
          ]
        }
      ]
    },
    {
      "cell_type": "code",
      "source": [
        "# Want to extract [7 8 11 12] from the array:\n",
        "\n",
        "print(arr[1,2:])"
      ],
      "metadata": {
        "colab": {
          "base_uri": "https://localhost:8080/"
        },
        "id": "Ty9CEHTHUeif",
        "outputId": "19f0ec7a-c5d5-437a-a62e-8c469b71b7d6"
      },
      "execution_count": 39,
      "outputs": [
        {
          "output_type": "stream",
          "name": "stdout",
          "text": [
            "[7 8]\n"
          ]
        }
      ]
    },
    {
      "cell_type": "code",
      "source": [
        "print(arr[2,2:])"
      ],
      "metadata": {
        "colab": {
          "base_uri": "https://localhost:8080/"
        },
        "id": "sk3vRDN8Uvyf",
        "outputId": "bdda177b-5148-46c3-f671-6a83c0ceac5b"
      },
      "execution_count": 40,
      "outputs": [
        {
          "output_type": "stream",
          "name": "stdout",
          "text": [
            "[11 12]\n"
          ]
        }
      ]
    },
    {
      "cell_type": "code",
      "source": [
        "# now,\n",
        "#First we need to define rows, then columns to get the desired block:\n",
        "arr[1:] # start from the second row and go to the end of the rows"
      ],
      "metadata": {
        "colab": {
          "base_uri": "https://localhost:8080/"
        },
        "id": "i20VvuprVYLJ",
        "outputId": "96bd31b5-0501-47b5-caf2-d29172471c06"
      },
      "execution_count": 43,
      "outputs": [
        {
          "output_type": "execute_result",
          "data": {
            "text/plain": [
              "array([[ 5,  6,  7,  8],\n",
              "       [ 9, 10, 11, 12]])"
            ]
          },
          "metadata": {},
          "execution_count": 43
        }
      ]
    },
    {
      "cell_type": "code",
      "source": [
        "# Now, focus on the 3nd columns and extract as intended:\n",
        "\n",
        "arr[1:, 2:]"
      ],
      "metadata": {
        "colab": {
          "base_uri": "https://localhost:8080/"
        },
        "id": "KFGl3idTVgCG",
        "outputId": "483aad42-1451-4e2d-883c-0b5029142049"
      },
      "execution_count": 44,
      "outputs": [
        {
          "output_type": "execute_result",
          "data": {
            "text/plain": [
              "array([[ 7,  8],\n",
              "       [11, 12]])"
            ]
          },
          "metadata": {},
          "execution_count": 44
        }
      ]
    },
    {
      "cell_type": "code",
      "source": [
        "##  Want to extract [3 4 7 8] from the array:"
      ],
      "metadata": {
        "id": "8JEksB3UW7Ta"
      },
      "execution_count": 45,
      "outputs": []
    },
    {
      "cell_type": "code",
      "source": [
        "arr"
      ],
      "metadata": {
        "colab": {
          "base_uri": "https://localhost:8080/"
        },
        "id": "JekXZRA6XJiN",
        "outputId": "3e1e4dac-a16a-4ea9-ec87-71d4ec1c743b"
      },
      "execution_count": 46,
      "outputs": [
        {
          "output_type": "execute_result",
          "data": {
            "text/plain": [
              "array([[ 1,  2,  3,  4],\n",
              "       [ 5,  6,  7,  8],\n",
              "       [ 9, 10, 11, 12]])"
            ]
          },
          "metadata": {},
          "execution_count": 46
        }
      ]
    },
    {
      "cell_type": "code",
      "source": [
        "arr[0:2]"
      ],
      "metadata": {
        "colab": {
          "base_uri": "https://localhost:8080/"
        },
        "id": "eCnnxVslXKHz",
        "outputId": "53dc3e2f-96c2-42ff-e0a9-51f506ddcd64"
      },
      "execution_count": 47,
      "outputs": [
        {
          "output_type": "execute_result",
          "data": {
            "text/plain": [
              "array([[1, 2, 3, 4],\n",
              "       [5, 6, 7, 8]])"
            ]
          },
          "metadata": {},
          "execution_count": 47
        }
      ]
    },
    {
      "cell_type": "code",
      "source": [
        "arr[0:2, 2:]"
      ],
      "metadata": {
        "colab": {
          "base_uri": "https://localhost:8080/"
        },
        "id": "uG7lq4adXP4W",
        "outputId": "c4f4277d-65f9-4126-d82d-df824cf22dda"
      },
      "execution_count": 48,
      "outputs": [
        {
          "output_type": "execute_result",
          "data": {
            "text/plain": [
              "array([[3, 4],\n",
              "       [7, 8]])"
            ]
          },
          "metadata": {},
          "execution_count": 48
        }
      ]
    },
    {
      "cell_type": "markdown",
      "source": [
        "## Modify array elements"
      ],
      "metadata": {
        "id": "wqijaa6BXcmF"
      }
    },
    {
      "cell_type": "code",
      "source": [
        "arr"
      ],
      "metadata": {
        "colab": {
          "base_uri": "https://localhost:8080/"
        },
        "id": "dorUeipmXl4d",
        "outputId": "74dfa5f9-3aa1-410e-a855-d84672ba06d6"
      },
      "execution_count": 49,
      "outputs": [
        {
          "output_type": "execute_result",
          "data": {
            "text/plain": [
              "array([[ 1,  2,  3,  4],\n",
              "       [ 5,  6,  7,  8],\n",
              "       [ 9, 10, 11, 12]])"
            ]
          },
          "metadata": {},
          "execution_count": 49
        }
      ]
    },
    {
      "cell_type": "code",
      "source": [
        "arr[0,0]=100\n",
        "arr"
      ],
      "metadata": {
        "colab": {
          "base_uri": "https://localhost:8080/"
        },
        "id": "piWdt6_WXopU",
        "outputId": "def2d504-e49a-4a59-b9ab-4c3592c4a447"
      },
      "execution_count": 50,
      "outputs": [
        {
          "output_type": "execute_result",
          "data": {
            "text/plain": [
              "array([[100,   2,   3,   4],\n",
              "       [  5,   6,   7,   8],\n",
              "       [  9,  10,  11,  12]])"
            ]
          },
          "metadata": {},
          "execution_count": 50
        }
      ]
    },
    {
      "cell_type": "code",
      "source": [
        "arr[1:]"
      ],
      "metadata": {
        "colab": {
          "base_uri": "https://localhost:8080/"
        },
        "id": "kpUE28BxXtXR",
        "outputId": "8f742111-f1a7-489e-94ca-e40bd5dcfd9b"
      },
      "execution_count": 52,
      "outputs": [
        {
          "output_type": "execute_result",
          "data": {
            "text/plain": [
              "array([[ 5,  6,  7,  8],\n",
              "       [ 9, 10, 11, 12]])"
            ]
          },
          "metadata": {},
          "execution_count": 52
        }
      ]
    },
    {
      "cell_type": "code",
      "source": [
        "arr[1]=100\n",
        "print(arr)"
      ],
      "metadata": {
        "colab": {
          "base_uri": "https://localhost:8080/"
        },
        "id": "TmS4lhZfX-QU",
        "outputId": "fea9c99a-5b2b-499b-f20b-8179219e51f9"
      },
      "execution_count": 53,
      "outputs": [
        {
          "output_type": "stream",
          "name": "stdout",
          "text": [
            "[[100   2   3   4]\n",
            " [100 100 100 100]\n",
            " [  9  10  11  12]]\n"
          ]
        }
      ]
    },
    {
      "cell_type": "markdown",
      "source": [
        "## Statistical Concept - Normalization:"
      ],
      "metadata": {
        "id": "_6kKxi92YLSE"
      }
    },
    {
      "cell_type": "code",
      "source": [
        "# Normalization: mean is 0 and std is 1\n",
        "\n",
        "data = np.array([1, 2, 3, 4, 5])\n"
      ],
      "metadata": {
        "id": "dZlfjU2HYqL9"
      },
      "execution_count": 54,
      "outputs": []
    },
    {
      "cell_type": "code",
      "source": [
        "# Calculate the mean and standard deviation\n",
        "\n",
        "mean = np.mean(data)\n",
        "std =np.std(data)"
      ],
      "metadata": {
        "id": "wFTVS2obZXdD"
      },
      "execution_count": 55,
      "outputs": []
    },
    {
      "cell_type": "code",
      "source": [
        "# Normalize the data\n",
        "\n",
        "normalized_data = (data - mean) / std\n",
        "print(normalized_data)"
      ],
      "metadata": {
        "colab": {
          "base_uri": "https://localhost:8080/"
        },
        "id": "paMG50BuZh4Z",
        "outputId": "6a10063b-4a4b-43ec-e1a6-312dd49c7838"
      },
      "execution_count": 56,
      "outputs": [
        {
          "output_type": "stream",
          "name": "stdout",
          "text": [
            "[-1.41421356 -0.70710678  0.          0.70710678  1.41421356]\n"
          ]
        }
      ]
    },
    {
      "cell_type": "code",
      "source": [
        "data = np.array([1, 2, 3, 4, 5, 6, 7, 8, 9, 10])\n",
        "\n",
        "# Mean\n",
        "mean = np.mean(data)\n",
        "print(\"Mean:\", mean)\n",
        "\n",
        "# Median\n",
        "median = np.median(data)\n",
        "print(\"Median:\", median)\n",
        "\n",
        "# Standard deviation\n",
        "std_dev = np.std(data)\n",
        "print(\"Standard Deviation:\", std_dev)\n",
        "\n",
        "# Variance\n",
        "variance = np.var(data)\n",
        "print(\"Variance:\", variance)"
      ],
      "metadata": {
        "colab": {
          "base_uri": "https://localhost:8080/"
        },
        "id": "VwOe1HVkZnHl",
        "outputId": "53fd5ab4-b470-4ce3-8fad-13d12bd1d328"
      },
      "execution_count": 57,
      "outputs": [
        {
          "output_type": "stream",
          "name": "stdout",
          "text": [
            "Mean: 5.5\n",
            "Median: 5.5\n",
            "Standard Deviation: 2.8722813232690143\n",
            "Variance: 8.25\n"
          ]
        }
      ]
    },
    {
      "cell_type": "markdown",
      "source": [
        "## Logical operation"
      ],
      "metadata": {
        "id": "nLc7RbJGZtIc"
      }
    },
    {
      "cell_type": "code",
      "source": [
        "data=np.array([1,2,3,4,5,6,7,8,9,10])\n"
      ],
      "metadata": {
        "id": "s1-QnYyDZ2rB"
      },
      "execution_count": 58,
      "outputs": []
    },
    {
      "cell_type": "code",
      "source": [
        "# I want to retrieve all the data based on my condition:\n",
        "# That's why we need to use 'indexing'\n",
        "\n",
        "data[data>5]"
      ],
      "metadata": {
        "colab": {
          "base_uri": "https://localhost:8080/"
        },
        "id": "SHwWRbu0aE5A",
        "outputId": "272862cc-0bf9-4452-e1a2-ca5a18bd6f90"
      },
      "execution_count": 59,
      "outputs": [
        {
          "output_type": "execute_result",
          "data": {
            "text/plain": [
              "array([ 6,  7,  8,  9, 10])"
            ]
          },
          "metadata": {},
          "execution_count": 59
        }
      ]
    },
    {
      "cell_type": "code",
      "source": [
        "data[(data > 5) & (data < 10)]"
      ],
      "metadata": {
        "colab": {
          "base_uri": "https://localhost:8080/"
        },
        "id": "D2iNDiZTaVl4",
        "outputId": "dc07281b-c2fd-437b-dcfd-3bcabe45e4b7"
      },
      "execution_count": 63,
      "outputs": [
        {
          "output_type": "execute_result",
          "data": {
            "text/plain": [
              "array([6, 7, 8, 9])"
            ]
          },
          "metadata": {},
          "execution_count": 63
        }
      ]
    },
    {
      "cell_type": "code",
      "source": [],
      "metadata": {
        "id": "tuKqVtpaaghA"
      },
      "execution_count": null,
      "outputs": []
    }
  ]
}